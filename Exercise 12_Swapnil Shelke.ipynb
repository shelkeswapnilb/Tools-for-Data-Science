{
 "cells": [
  {
   "cell_type": "markdown",
   "id": "a2b60398",
   "metadata": {},
   "source": [
    "<h1> Data Science Tools and Ecosystem"
   ]
  },
  {
   "cell_type": "markdown",
   "id": "91cb21e9",
   "metadata": {},
   "source": [
    "<h1> In this notebook, Data Science Tools and Ecosystem are summarized."
   ]
  },
  {
   "cell_type": "markdown",
   "id": "4799ff39",
   "metadata": {},
   "source": [
    "<h1> some of the key takeaways from the course"
   ]
  },
  {
   "cell_type": "markdown",
   "id": "c33dd615",
   "metadata": {},
   "source": [
    "# <h1> obejctive"
   ]
  },
  {
   "cell_type": "markdown",
   "id": "64e18cbd",
   "metadata": {},
   "source": [
    "1. Some of the popular languages that uses in Data Scientists \n",
    "2. Some of the commonly used libraries used by Data Scientists\n",
    "3. Data Science Tools\n",
    "4. some simple code run in python"
   ]
  },
  {
   "cell_type": "markdown",
   "id": "27a8f3be",
   "metadata": {},
   "source": [
    "Some of the popular languages that Data Scientists use are:"
   ]
  },
  {
   "cell_type": "markdown",
   "id": "1804515a",
   "metadata": {},
   "source": [
    "1. python\n",
    "2. SQL\n",
    "3. R\n",
    "4. Scala\n",
    "5. MATLAB"
   ]
  },
  {
   "cell_type": "markdown",
   "id": "d2e3c588",
   "metadata": {},
   "source": [
    "<h1> Some of the commonly used libraries used by Data Scientists include:"
   ]
  },
  {
   "cell_type": "markdown",
   "id": "cfc1d2c7",
   "metadata": {},
   "source": [
    "1. pandas\n",
    "2. Numpy\n",
    "3. Pytorch\n",
    "4. Matbotlib\n",
    "5. Scikit- learn\n",
    "6. TensorFlow\n",
    "7. Seaborn\n",
    "8. Keras"
   ]
  },
  {
   "cell_type": "markdown",
   "id": "482a5102",
   "metadata": {},
   "source": [
    "<h1> Data Science Tools"
   ]
  },
  {
   "cell_type": "markdown",
   "id": "5df027a9",
   "metadata": {},
   "source": [
    "| data science tool |\n",
    "|-------------------|\n",
    "|Anconda navigator|\n",
    "|Visual studio|\n",
    "|Pycharm|"
   ]
  },
  {
   "cell_type": "markdown",
   "id": "11aecade",
   "metadata": {},
   "source": [
    "<h3> Below are a few examples of evaluating arithmetic expressions in Python."
   ]
  },
  {
   "cell_type": "markdown",
   "id": "a642f9f6",
   "metadata": {},
   "source": [
    "<h3> (3*4)+5"
   ]
  },
  {
   "cell_type": "markdown",
   "id": "b0e0548d",
   "metadata": {},
   "source": [
    "This a simple arithmetic expression to mutiply then add integers"
   ]
  },
  {
   "cell_type": "code",
   "execution_count": 4,
   "id": "a58f8d8d",
   "metadata": {},
   "outputs": [
    {
     "name": "stdout",
     "output_type": "stream",
     "text": [
      "17\n"
     ]
    }
   ],
   "source": [
    "a=3\n",
    "b=4\n",
    "c=5\n",
    "x=a*b\n",
    "print(x+c)\n"
   ]
  },
  {
   "cell_type": "code",
   "execution_count": 5,
   "id": "f8269ae1",
   "metadata": {},
   "outputs": [
    {
     "name": "stdout",
     "output_type": "stream",
     "text": [
      "17\n"
     ]
    }
   ],
   "source": [
    "a=3\n",
    "b=4\n",
    "c=5\n",
    "x=a*b\n",
    "print(a*b+c)\n"
   ]
  },
  {
   "cell_type": "code",
   "execution_count": 6,
   "id": "956e1250",
   "metadata": {},
   "outputs": [
    {
     "name": "stdout",
     "output_type": "stream",
     "text": [
      "17\n"
     ]
    }
   ],
   "source": [
    "a=3\n",
    "b=4\n",
    "c=5\n",
    "x=a*b+c\n",
    "print(x)"
   ]
  },
  {
   "cell_type": "markdown",
   "id": "4ffe55ba",
   "metadata": {},
   "source": [
    "<h3> Create a code cell to convert minutes to hours -  200 minutes into hours"
   ]
  },
  {
   "cell_type": "markdown",
   "id": "5db5e95a",
   "metadata": {},
   "source": [
    "This will convert 200 minutes to hours by diving by 60"
   ]
  },
  {
   "cell_type": "code",
   "execution_count": 7,
   "id": "84565e77",
   "metadata": {},
   "outputs": [
    {
     "name": "stdout",
     "output_type": "stream",
     "text": [
      "3.3333333333333335\n"
     ]
    }
   ],
   "source": [
    "min= 200\n",
    "hour=min/60\n",
    "print(hour)"
   ]
  },
  {
   "cell_type": "markdown",
   "id": "209513cf",
   "metadata": {},
   "source": [
    "<h2> Author\n",
    "    \n",
    "---------------------------------------------------------------------------------------------------\n",
    "    \n",
    "Swapnil Shelke"
   ]
  },
  {
   "cell_type": "markdown",
   "id": "e3b155de",
   "metadata": {},
   "source": []
  }
 ],
 "metadata": {
  "kernelspec": {
   "display_name": "Python 3 (ipykernel)",
   "language": "python",
   "name": "python3"
  },
  "language_info": {
   "codemirror_mode": {
    "name": "ipython",
    "version": 3
   },
   "file_extension": ".py",
   "mimetype": "text/x-python",
   "name": "python",
   "nbconvert_exporter": "python",
   "pygments_lexer": "ipython3",
   "version": "3.10.9"
  }
 },
 "nbformat": 4,
 "nbformat_minor": 5
}
